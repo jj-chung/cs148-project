{
 "cells": [
  {
   "cell_type": "code",
   "execution_count": 66,
   "metadata": {},
   "outputs": [],
   "source": [
    "import os \n",
    "import json"
   ]
  },
  {
   "cell_type": "code",
   "execution_count": 67,
   "metadata": {},
   "outputs": [],
   "source": [
    "def create_curr_to_prev():\n",
    "    '''\n",
    "    Creates a json file containing a dictionary of current-frame filenames\n",
    "    to previous-frame filenamm\n",
    "    '''\n",
    "    img_path = './Fish_automated_identification_and_counting/'\n",
    "    box_path = './box_masks/'\n",
    "    gauss_path = './gaussian_masks/'\n",
    "\n",
    "    train_path = './luderick_seagrass_jack_evans_a.json'\n",
    "    val_path = './luderick_seagrass_jack_evans_b.json'\n",
    "    all_path = './luderick_seagrass_all.json'\n",
    "    \n",
    "    paths = [all_path]\n",
    "    \n",
    "    # dictionary from filenames to filenames, dict from img_ids to img_ids\n",
    "    curr_to_prev_filename = {}\n",
    "    curr_to_prev_img_id = {}\n",
    "\n",
    "    # using each path for annotations, create ids to filenames dict\n",
    "    for ann_path in paths:\n",
    "        with open(img_path + ann_path) as f:\n",
    "            # dictionary containing COCO format annotations\n",
    "            COCO_ann = f.read()\n",
    "\n",
    "        COCO_ann = json.loads(COCO_ann)\n",
    "\n",
    "        # Lists of dictionaries with image/annotation information\n",
    "        img_info = COCO_ann[\"images\"]\n",
    "\n",
    "        # For the first image, there is clearly no previous frame\n",
    "        curr_to_prev_filename[img_info[0][\"file_name\"]] = None\n",
    "        curr_to_prev_img_id[img_info[0][\"id\"]] = None\n",
    "        num_no_prev = 0\n",
    "            \n",
    "        for i in range(1, len(img_info)):\n",
    "            curr_img_dict = img_info[i]\n",
    "            prev_img_dict = img_info[i - 1]\n",
    "            \n",
    "            curr_img_id, curr_img_name = curr_img_dict[\"id\"], curr_img_dict[\"file_name\"]\n",
    "            prev_img_id, prev_img_name = prev_img_dict[\"id\"], prev_img_dict[\"file_name\"]\n",
    "            \n",
    "            # Check if the timestamps are spaced correctly -- if not, assume\n",
    "            # first frame in new clip \n",
    "            sep_curr = curr_img_name.split('.')\n",
    "            sep_prev = prev_img_name.split('.')\n",
    "            \n",
    "            curr_six_digits = int(sep_curr[len(sep_curr) - 2][-6:])\n",
    "            prev_six_digits = int(sep_prev[len(sep_prev) - 2][-6:])\n",
    "            \n",
    "            if curr_six_digits - prev_six_digits not in [200, 1]:\n",
    "                curr_to_prev_filename[curr_img_name] = None\n",
    "                curr_to_prev_img_id[curr_img_name] = None\n",
    "                num_no_prev += 1\n",
    "            else:\n",
    "                curr_to_prev_filename[curr_img_name] = prev_img_name\n",
    "                curr_to_prev_img_id[curr_img_id] = prev_img_id\n",
    "                \n",
    "    # Save dictionaries as .json files\n",
    "    with open(\"curr_to_prev_filename.json\", \"w\") as write_file:\n",
    "        json.dump(curr_to_prev_filename, write_file, indent=4)\n",
    "        \n",
    "    with open(\"curr_to_prev_img_id.json\", \"w\") as write_file:\n",
    "        json.dump(curr_to_prev_img_id, write_file, indent=4)\n",
    "        \n",
    "    print(num_no_prev)\n",
    "            "
   ]
  },
  {
   "cell_type": "code",
   "execution_count": 68,
   "metadata": {},
   "outputs": [
    {
     "name": "stdout",
     "output_type": "stream",
     "text": [
      "790\n"
     ]
    }
   ],
   "source": [
    "create_curr_to_prev()"
   ]
  }
 ],
 "metadata": {
  "kernelspec": {
   "display_name": "Python 3",
   "language": "python",
   "name": "python3"
  },
  "language_info": {
   "codemirror_mode": {
    "name": "ipython",
    "version": 3
   },
   "file_extension": ".py",
   "mimetype": "text/x-python",
   "name": "python",
   "nbconvert_exporter": "python",
   "pygments_lexer": "ipython3",
   "version": "3.7.3"
  }
 },
 "nbformat": 4,
 "nbformat_minor": 2
}
